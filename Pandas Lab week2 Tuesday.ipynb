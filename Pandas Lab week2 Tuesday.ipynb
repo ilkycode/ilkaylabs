{
 "cells": [
  {
   "cell_type": "code",
   "execution_count": null,
   "id": "21020d1e",
   "metadata": {},
   "outputs": [],
   "source": [
    "#- Replacing null values – Replace missing values with means of the column \n",
    "#(for numerical columns). Pay attention that the Income feature for instance has 0s which is\n",
    "#equivalent to null values. (We assume here that there is no such income with 0 as it refers \n",
    "#to missing values)\n",
    "#Hint: numpy.nan is considered of float64 data type."
   ]
  },
  {
   "cell_type": "code",
   "execution_count": null,
   "id": "ce448efa",
   "metadata": {},
   "outputs": [],
   "source": [
    "\n",
    "concat_df[[\"Income\"]].fillna(value=concat_df.Income.mean())\n",
    "\n",
    "#concat_df['Income']=concat_df['Income'].fillna(value=)"
   ]
  },
  {
   "cell_type": "code",
   "execution_count": null,
   "id": "f70ac54c",
   "metadata": {},
   "outputs": [],
   "source": [
    "#Bucketing the data - Write a function to replace column \"State\" to different zones. \n",
    "#California as West Region, Oregon as North West, and Washington as East, and Arizona and \n",
    "#Nevada as Central"
   ]
  },
  {
   "cell_type": "code",
   "execution_count": null,
   "id": "9d08b4fd",
   "metadata": {},
   "outputs": [],
   "source": []
  },
  {
   "cell_type": "code",
   "execution_count": null,
   "id": "d1686d93",
   "metadata": {},
   "outputs": [],
   "source": []
  },
  {
   "cell_type": "code",
   "execution_count": null,
   "id": "0278e8f6",
   "metadata": {},
   "outputs": [],
   "source": []
  },
  {
   "cell_type": "code",
   "execution_count": null,
   "id": "0f333786",
   "metadata": {},
   "outputs": [],
   "source": []
  }
 ],
 "metadata": {
  "kernelspec": {
   "display_name": "Python 3 (ipykernel)",
   "language": "python",
   "name": "python3"
  },
  "language_info": {
   "codemirror_mode": {
    "name": "ipython",
    "version": 3
   },
   "file_extension": ".py",
   "mimetype": "text/x-python",
   "name": "python",
   "nbconvert_exporter": "python",
   "pygments_lexer": "ipython3",
   "version": "3.9.13"
  }
 },
 "nbformat": 4,
 "nbformat_minor": 5
}

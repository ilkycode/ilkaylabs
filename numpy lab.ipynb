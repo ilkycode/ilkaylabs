{
 "cells": [
  {
   "cell_type": "code",
   "execution_count": 1,
   "id": "9e198b33",
   "metadata": {},
   "outputs": [],
   "source": [
    "#1\n",
    "import numpy as np"
   ]
  },
  {
   "cell_type": "code",
   "execution_count": 2,
   "id": "42fb4593",
   "metadata": {},
   "outputs": [
    {
     "name": "stdout",
     "output_type": "stream",
     "text": [
      "[0. 0. 0. 0. 0. 0. 0. 0. 0. 0.]\n"
     ]
    }
   ],
   "source": [
    "#2\n",
    "zero_array = np.zeros(10)\n",
    "print(zero_array)"
   ]
  },
  {
   "cell_type": "code",
   "execution_count": 3,
   "id": "7645c37d",
   "metadata": {},
   "outputs": [
    {
     "name": "stdout",
     "output_type": "stream",
     "text": [
      "[0. 0. 0. 0. 1. 0. 0. 0. 0. 0.]\n"
     ]
    }
   ],
   "source": [
    "#3\n",
    "zer_array = np.zeros(10)\n",
    "zer_array[4] = 1\n",
    "print(zer_array)"
   ]
  },
  {
   "cell_type": "code",
   "execution_count": 4,
   "id": "11ef71c5",
   "metadata": {},
   "outputs": [
    {
     "name": "stdout",
     "output_type": "stream",
     "text": [
      "[10 11 12 13 14 15 16 17 18 19 20 21 22 23 24 25 26 27 28 29 30 31 32 33\n",
      " 34 35 36 37 38 39 40 41 42 43 44 45 46 47 48]\n"
     ]
    }
   ],
   "source": [
    "#4\n",
    "rng_array = np.arange(10,49)\n",
    "print(rng_array)"
   ]
  },
  {
   "cell_type": "code",
   "execution_count": 14,
   "id": "9010facb",
   "metadata": {},
   "outputs": [
    {
     "name": "stdout",
     "output_type": "stream",
     "text": [
      "[[0 1 2]\n",
      " [3 4 5]\n",
      " [6 7 8]]\n"
     ]
    }
   ],
   "source": [
    "#5\n",
    "x =  np.arange(0, 9).reshape(3,3)\n",
    "print(x)"
   ]
  },
  {
   "cell_type": "code",
   "execution_count": 15,
   "id": "cfc28da4",
   "metadata": {},
   "outputs": [
    {
     "data": {
      "text/plain": [
       "(array([0, 1, 4]),)"
      ]
     },
     "execution_count": 15,
     "metadata": {},
     "output_type": "execute_result"
    }
   ],
   "source": [
    "#6\n",
    "\n",
    "y = np.array([1,2,0,0,4,0])\n",
    "\n",
    "np.nonzero(y)\n"
   ]
  },
  {
   "cell_type": "code",
   "execution_count": 17,
   "id": "acf86c80",
   "metadata": {},
   "outputs": [
    {
     "name": "stdout",
     "output_type": "stream",
     "text": [
      "[[1. 0. 0.]\n",
      " [0. 1. 0.]\n",
      " [0. 0. 1.]]\n"
     ]
    }
   ],
   "source": [
    "#7\n",
    "\n",
    "z = np.eye(3)\n",
    "print(z)"
   ]
  },
  {
   "cell_type": "code",
   "execution_count": 19,
   "id": "f9e007cf",
   "metadata": {},
   "outputs": [
    {
     "name": "stdout",
     "output_type": "stream",
     "text": [
      "[[[0.65399578 0.29975406 0.33100302]\n",
      "  [0.78789207 0.18765219 0.23599572]\n",
      "  [0.58906077 0.84550691 0.68809972]]\n",
      "\n",
      " [[0.66279378 0.32314323 0.99642739]\n",
      "  [0.04089889 0.16874597 0.14807337]\n",
      "  [0.70276045 0.6298902  0.02668437]]\n",
      "\n",
      " [[0.10361901 0.37917501 0.80655908]\n",
      "  [0.31252744 0.91934493 0.02167113]\n",
      "  [0.63474463 0.73985876 0.22570708]]]\n"
     ]
    }
   ],
   "source": [
    "#8 \n",
    "\n",
    "t = np.random.random((3,3,3))\n",
    "print(t)"
   ]
  },
  {
   "cell_type": "code",
   "execution_count": 25,
   "id": "08732e17",
   "metadata": {},
   "outputs": [
    {
     "data": {
      "text/plain": [
       "0.9886506771276775"
      ]
     },
     "execution_count": 25,
     "metadata": {},
     "output_type": "execute_result"
    }
   ],
   "source": [
    "#9\n",
    "\n",
    "\n",
    "a = np.random.random((10,10))\n",
    "np.amax(a)"
   ]
  },
  {
   "cell_type": "code",
   "execution_count": 26,
   "id": "024d6d67",
   "metadata": {},
   "outputs": [
    {
     "data": {
      "text/plain": [
       "0.005367346870010725"
      ]
     },
     "execution_count": 26,
     "metadata": {},
     "output_type": "execute_result"
    }
   ],
   "source": [
    "#9\n",
    "\n",
    "a = np.random.random((10,10))\n",
    "np.amin(a)\n"
   ]
  },
  {
   "cell_type": "code",
   "execution_count": 28,
   "id": "22d2b4d7",
   "metadata": {},
   "outputs": [
    {
     "name": "stdout",
     "output_type": "stream",
     "text": [
      "0.5618015341421334\n"
     ]
    }
   ],
   "source": [
    "#10\n",
    "\n",
    "b = np.random.random(30)\n",
    "print(np.mean(b))"
   ]
  },
  {
   "cell_type": "code",
   "execution_count": 29,
   "id": "99373045",
   "metadata": {},
   "outputs": [
    {
     "data": {
      "text/plain": [
       "array([[0, 0, 0, 0, 0],\n",
       "       [1, 0, 0, 0, 0],\n",
       "       [0, 2, 0, 0, 0],\n",
       "       [0, 0, 3, 0, 0],\n",
       "       [0, 0, 0, 4, 0]])"
      ]
     },
     "execution_count": 29,
     "metadata": {},
     "output_type": "execute_result"
    }
   ],
   "source": [
    "#11 \n",
    "\n",
    "mtrx = np.diag([1, 2, 3, 4], k=-1)\n",
    "mtrx"
   ]
  },
  {
   "cell_type": "code",
   "execution_count": 31,
   "id": "35ce7958",
   "metadata": {},
   "outputs": [
    {
     "name": "stdout",
     "output_type": "stream",
     "text": [
      "[[0.82033923 0.24638683 0.92623913 0.61815851 0.02831468]\n",
      " [0.3524351  0.05033682 0.4886237  0.12129261 0.22857756]\n",
      " [0.2451715  0.35313224 0.9340621  0.16875468 0.46707294]\n",
      " [0.63003897 0.91456511 0.98321066 0.45178602 0.83406672]\n",
      " [0.95140636 0.74743017 0.14944853 0.95479543 0.21033066]]\n",
      "0.5150390504712228\n",
      "0.3237988447543807\n",
      "[[ 0.94286987 -0.82968863  1.26992447  0.31846765 -1.50316895]\n",
      " [-0.50217583 -1.43515717 -0.0815795  -1.21602177 -0.88468967]\n",
      " [-0.83344198 -0.50002282  1.29408444 -1.06944288 -0.14813552]\n",
      " [ 0.35515854  1.23387118  1.44587178 -0.19534668  0.98526501]\n",
      " [ 1.34764937  0.71770214 -1.12906678  1.35811595 -0.94104225]]\n"
     ]
    }
   ],
   "source": [
    "#12\n",
    "\n",
    "m = np.random.random((5,5))\n",
    "\n",
    "mean_m = np.mean(m)\n",
    "\n",
    "std_m = np.std(m)\n",
    "\n",
    "normalized = (m - mean_m) / std_m \n",
    "\n",
    "print(m)\n",
    "print(mean_m)\n",
    "print(std_m)\n",
    "print(normalized)"
   ]
  },
  {
   "cell_type": "code",
   "execution_count": 33,
   "id": "9153a5e8",
   "metadata": {},
   "outputs": [
    {
     "name": "stdout",
     "output_type": "stream",
     "text": [
      "[2 3 8]\n"
     ]
    }
   ],
   "source": [
    "#13\n",
    "\n",
    "\n",
    "xy = np.array([2,3,6,8,9])\n",
    "yx = np.array([2,3,5,7,8])\n",
    "\n",
    "intersc = np.intersect1d(xy,yx)\n",
    "print(intersc)"
   ]
  },
  {
   "cell_type": "code",
   "execution_count": 34,
   "id": "9e4d129c",
   "metadata": {},
   "outputs": [
    {
     "name": "stdout",
     "output_type": "stream",
     "text": [
      "[0.0866763  0.13421096 0.2025452  0.23983536 0.75565078 0.78914217\n",
      " 0.79573334 0.88013826 0.88542942 0.96130971]\n"
     ]
    }
   ],
   "source": [
    "#14 \n",
    "\n",
    "yz = np.random.random(10)\n",
    "print(np.sort(yz))"
   ]
  },
  {
   "cell_type": "code",
   "execution_count": 40,
   "id": "aed1566a",
   "metadata": {},
   "outputs": [
    {
     "name": "stdout",
     "output_type": "stream",
     "text": [
      "[0.3317655  0.81564145 0.         0.40708513 0.57306663 0.50958493\n",
      " 0.87143818 0.55962783 0.39209746 0.66567468]\n"
     ]
    }
   ],
   "source": [
    "#15\n",
    "\n",
    "zt = np.random.random(10)\n",
    "zt[zt.argmax()] = 0\n",
    "\n",
    "print(zt)"
   ]
  },
  {
   "cell_type": "code",
   "execution_count": 41,
   "id": "5c289829",
   "metadata": {},
   "outputs": [
    {
     "name": "stdout",
     "output_type": "stream",
     "text": [
      "[[0.14193578 0.74699027 0.4095435 ]\n",
      " [0.81869439 0.33532472 0.80174462]\n",
      " [0.1816744  0.2557712  0.23994983]]\n",
      "[[-0.2908874   0.31416708 -0.02327969]\n",
      " [ 0.16677315 -0.31659652  0.14982337]\n",
      " [-0.04412408  0.02997273  0.01415135]]\n"
     ]
    }
   ],
   "source": [
    "#16\n",
    "\n",
    "sw = np.random.random((3, 3))\n",
    "print(sw)\n",
    "\n",
    "qw = sw - sw.mean(axis=1, keepdims=True) #keepdims is a bit unclear, check it later, found it online\n",
    "print(qw)\n"
   ]
  },
  {
   "cell_type": "code",
   "execution_count": 42,
   "id": "fd7a4c33",
   "metadata": {},
   "outputs": [
    {
     "name": "stdout",
     "output_type": "stream",
     "text": [
      "[ 940 1552 1400 ... 8148 8119 6294]\n",
      "[9995 9996 9997 9998 9999]\n"
     ]
    }
   ],
   "source": [
    "#17 \n",
    "\n",
    "ab = np.arange(10000)\n",
    "np.random.shuffle(ab)\n",
    "\n",
    "print(ab)\n",
    "\n",
    "args_ab = np.argsort(ab)  #this argsort is for index of sorted array\n",
    "\n",
    "srt_ab = ab[args_ab] \n",
    "\n",
    "n = 5\n",
    "\n",
    "largest = srt_ab[-n : ]\n",
    "\n",
    "print(largest)\n"
   ]
  },
  {
   "cell_type": "code",
   "execution_count": 43,
   "id": "ef6eca9e",
   "metadata": {},
   "outputs": [
    {
     "name": "stdout",
     "output_type": "stream",
     "text": [
      "[[9.77189950e-01 7.30104755e-01 8.91678870e-01]\n",
      " [9.59551216e-02 8.08502378e-02 4.96891703e-01]\n",
      " [3.97966097e-04 7.54991060e-01 6.74047686e-01]\n",
      " [9.26485841e-02 1.60764207e-01 1.88736172e-01]\n",
      " [9.86803669e-04 1.90179290e-01 3.47693213e-01]]\n"
     ]
    }
   ],
   "source": [
    "#18\n",
    "\n",
    "n = np.random.random((5,3))\n",
    "\n",
    "np.where(n>4)\n",
    "\n",
    "print(n**2)"
   ]
  },
  {
   "cell_type": "code",
   "execution_count": null,
   "id": "48cea9e7",
   "metadata": {},
   "outputs": [],
   "source": []
  }
 ],
 "metadata": {
  "kernelspec": {
   "display_name": "Python 3 (ipykernel)",
   "language": "python",
   "name": "python3"
  },
  "language_info": {
   "codemirror_mode": {
    "name": "ipython",
    "version": 3
   },
   "file_extension": ".py",
   "mimetype": "text/x-python",
   "name": "python",
   "nbconvert_exporter": "python",
   "pygments_lexer": "ipython3",
   "version": "3.9.13"
  }
 },
 "nbformat": 4,
 "nbformat_minor": 5
}
